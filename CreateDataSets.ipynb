{
  "nbformat": 4,
  "nbformat_minor": 0,
  "metadata": {
    "colab": {
      "name": "CreateDataSets.ipynb",
      "provenance": [],
      "collapsed_sections": [],
      "toc_visible": true
    },
    "kernelspec": {
      "name": "python3",
      "display_name": "Python 3"
    },
    "language_info": {
      "name": "python"
    }
  },
  "cells": [
    {
      "cell_type": "code",
      "metadata": {
        "id": "I1PhMK_1CPUc"
      },
      "source": [
        "import numpy as np\n",
        "import glob\n",
        "import gc\n",
        "import matplotlib.pyplot as plt\n",
        "import tensorflow as tf"
      ],
      "execution_count": null,
      "outputs": []
    },
    {
      "cell_type": "code",
      "metadata": {
        "id": "qqdnkvdqCykU"
      },
      "source": [
        "#load image data \n",
        "FileDirX= '/content/drive/MyDrive/CS 738/Project/render/*.png'\n",
        "FileDirY= '/content/drive/MyDrive/CS 738/Project/clean/*.png'\n",
        "\n",
        "Files_ListX = glob.glob(FileDirX)\n",
        "Files_ListY = glob.glob(FileDirY)\n",
        "\n",
        "Files_ListX.sort()\n",
        "Files_ListY.sort()\n",
        "\n",
        "#for k in range(0, len(Files_ListY)): # create Xdata and Ydata\n",
        "#  print(Files_ListX[k], '\\n')\n",
        "#  print(Files_ListY[k], '\\n')"
      ],
      "execution_count": null,
      "outputs": []
    },
    {
      "cell_type": "markdown",
      "metadata": {
        "id": "_iAXniJaMrDY"
      },
      "source": [
        "## Due to Large Sample Size and High Dimensionality, Create Functions to Make Sure Memory is Freed Up Creating the Batches"
      ]
    },
    {
      "cell_type": "code",
      "metadata": {
        "id": "4D9FvydnFOpx"
      },
      "source": [
        "def CreateDataBatchX(FilesListX, FilesListY, StartIndex, StopIndex, batchString):\n",
        "\n",
        "  Xdata = np.zeros((480,720,3, StopIndex - StartIndex), dtype = np.float32)\n",
        "  NewXData = FilesListX[StartIndex:StopIndex]\n",
        "  for i in range(0, len(NewXData)):\n",
        "    img = plt.imread(NewXData[i]) # get the image\n",
        "    Xdata[:,:,:,i] = img\n",
        "  np.save('/content/drive/MyDrive/CS 738/Project/Batched Data/Xdata_' + batchString, Xdata)\n",
        "  del Xdata\n",
        "  gc.collect()\n",
        "\n",
        "  #Ylabels = np.zeros((480,720,3, StopIndex - StartIndex), dtype = np.float32)  \n",
        "  #NewYData = FilesListY[StartIndex:StopIndex]\n",
        "  #for i in range(0, len(NewXData)):\n",
        "  #  img_label = plt.imread(NewYData[i]) # get the segmentation label\n",
        "  #  Ylabels[:,:,:,i] = img_label\n",
        "  #np.save('/content/drive/MyDrive/CS 738/Project/Batched Data/Ylabels_' + batchString, Ylabels)\n",
        "  #Ylabels = None\n",
        "  #gc.collect()\n"
      ],
      "execution_count": null,
      "outputs": []
    },
    {
      "cell_type": "code",
      "metadata": {
        "id": "EGqkP6JpMeNT"
      },
      "source": [
        "def CreateDataBatchY(FilesListX, FilesListY, StartIndex, StopIndex, batchString):\n",
        "\n",
        "  #Xdata = np.zeros((480,720,3, StopIndex - StartIndex), dtype = np.float32)\n",
        "  #NewXData = FilesListX[StartIndex:StopIndex]\n",
        "  #for i in range(0, len(NewXData)):\n",
        "  #  img = plt.imread(NewXData[i]) # get the image\n",
        "  #  Xdata[:,:,:,i] = img\n",
        "  #np.save('/content/drive/MyDrive/CS 738/Project/Batched Data/Xdata_' + batchString, Xdata)\n",
        "  #Xdata = None\n",
        "  #gc.collect()\n",
        "\n",
        "  Ylabels = np.zeros((480,720,3, StopIndex - StartIndex), dtype = np.float32)\n",
        "  NewYData = FilesListY[StartIndex:StopIndex]\n",
        "  for i in range(0, len(NewYData)):\n",
        "    img_label = plt.imread(NewYData[i]) # get the segmentation label\n",
        "    Ylabels[:,:,:,i] = img_label\n",
        "  np.save('/content/drive/MyDrive/CS 738/Project/Batched Data/Ylabels_' + batchString, Ylabels)\n",
        "  del Ylabels\n",
        "  gc.collect()\n"
      ],
      "execution_count": null,
      "outputs": []
    },
    {
      "cell_type": "code",
      "metadata": {
        "id": "kuxzVRSRGyrT"
      },
      "source": [
        "Indices = np.floor(np.linspace(0,len(Files_ListX),num=12)).astype(int) # get indices for breaking up data into batches"
      ],
      "execution_count": null,
      "outputs": []
    },
    {
      "cell_type": "code",
      "metadata": {
        "id": "VMwpFolmIh-V"
      },
      "source": [
        "for i,k in enumerate(Indices[0:-1]):\n",
        "\n",
        "  StartIndex = k\n",
        "  EndIndex = Indices[i+1]\n",
        "  batchString = str(i)\n",
        "  CreateDataBatchX(Files_ListX,Files_ListY,StartIndex, EndIndex, batchString)\n",
        "  CreateDataBatchY(Files_ListX,Files_ListY,StartIndex, EndIndex, batchString)\n"
      ],
      "execution_count": null,
      "outputs": []
    },
    {
      "cell_type": "code",
      "metadata": {
        "id": "looHuHeq_kNp"
      },
      "source": [
        "print(Indices)"
      ],
      "execution_count": null,
      "outputs": []
    },
    {
      "cell_type": "code",
      "metadata": {
        "id": "LuoqStuK-UMi"
      },
      "source": [
        "FileDirX= '/content/drive/MyDrive/CS 738/Project/Batched Data/XtrainData/*.npy'\n",
        "FileDirY= '/content/drive/MyDrive/CS 738/Project/Batched Data/YtrainData/*.npy'\n",
        "\n",
        "Files_ListX = glob.glob(FileDirX)\n",
        "Files_ListY = glob.glob(FileDirY)\n",
        "\n",
        "Files_ListX.sort()\n",
        "Files_ListY.sort()\n",
        "\n",
        "test = np.load(Files_ListX[0])"
      ],
      "execution_count": null,
      "outputs": []
    },
    {
      "cell_type": "markdown",
      "metadata": {
        "id": "lJjZR9hqzzQH"
      },
      "source": [
        "### Resize Data and Preprocess for Computational Efficiency "
      ]
    },
    {
      "cell_type": "code",
      "metadata": {
        "id": "bfB57eoa1Tld"
      },
      "source": [
        "def normalize(input_image, input_mask):\n",
        "  #input_image = tf.cast(input_image, tf.float32) / 255.0 # images are already normalized between 0 and 1\n",
        "  #input_mask -= 1\n",
        "  input_image = input_image\n",
        "  return input_image, input_mask"
      ],
      "execution_count": null,
      "outputs": []
    },
    {
      "cell_type": "markdown",
      "metadata": {
        "id": "3FHV8kaDuzFv"
      },
      "source": [
        "## Preprocessing Training Data"
      ]
    },
    {
      "cell_type": "code",
      "metadata": {
        "id": "RXcDDdAN1XOb"
      },
      "source": [
        "#@tf.function\n",
        "def load_image_train(xImage,yImage):\n",
        "  input_image = tf.image.resize(xImage, (128, 128),method='nearest')\n",
        "  input_mask = tf.image.resize(yImage, (128, 128),method='nearest')\n",
        "\n",
        "  #data augmentation\n",
        "  if tf.random.uniform(()) > 0.5: \n",
        "    input_image = tf.image.flip_left_right(input_image)\n",
        "    input_mask = tf.image.flip_left_right(input_mask)\n",
        "\n",
        "  input_image, input_mask = normalize(input_image, input_mask)\n",
        "\n",
        "  return input_image, input_mask"
      ],
      "execution_count": null,
      "outputs": []
    },
    {
      "cell_type": "code",
      "metadata": {
        "id": "9PPx-1RX1di4"
      },
      "source": [
        "def PreProcessDataTrain(FileX, FileY):\n",
        "\n",
        "  Xdata = np.load(FileX)\n",
        "  Ydata = np.load(FileY)\n",
        "\n",
        "  #initialize new storage array \n",
        "  Xtrain = np.zeros((Xdata.shape[3],128,128,3), dtype=np.float32) # the resized dataset\n",
        "  Ytrain = np.zeros((Xdata.shape[3],128,128,1), dtype=np.float32)  # the resized labels\n",
        "\n",
        "  for k in range(0, Xtrain.shape[0]):\n",
        "\n",
        "    Y_1D = 1*Ydata[:,:,0,k] + 2*Ydata[:,:,1,k] + 3*Ydata[:,:,2,k]\n",
        "    Y_1D = Y_1D.reshape(Y_1D.shape[0], Y_1D.shape[1],1)\n",
        "    [x,y] = load_image_train(Xdata[:,:,:,k], Y_1D) # resize and normalize the data\n",
        "    Xtrain[k,:,:,:] = x\n",
        "    Ytrain[k,:,:,:] = y\n",
        "  \n",
        "  del Xdata\n",
        "  del Ydata\n",
        "  gc.collect()\n",
        "\n",
        "  return Xtrain,Ytrain"
      ],
      "execution_count": null,
      "outputs": []
    },
    {
      "cell_type": "code",
      "metadata": {
        "id": "aCsfGwZDzop1"
      },
      "source": [
        "#load image training data\n",
        "FileDirX= '/content/drive/MyDrive/CS 738/Project/Batched Data/XtrainData/*.npy'\n",
        "FileDirY= '/content/drive/MyDrive/CS 738/Project/Batched Data/YtrainData/*.npy'\n",
        "\n",
        "Files_ListX = glob.glob(FileDirX)\n",
        "Files_ListY = glob.glob(FileDirY)\n",
        "\n",
        "Files_ListX.sort()\n",
        "Files_ListY.sort()\n"
      ],
      "execution_count": null,
      "outputs": []
    },
    {
      "cell_type": "code",
      "metadata": {
        "id": "YbK8KWpK5Y_u"
      },
      "source": [
        "for i,k in enumerate(Files_ListX):\n",
        "\n",
        "  [Xtrain,Ytrain] = PreProcessDataTrain(Files_ListX[i], Files_ListY[i])\n",
        "  np.save('/content/drive/MyDrive/CS 738/Project/Batched Data/XtrainDataResized/Xdata_' + str(i) + '_resized', Xtrain)\n",
        "  np.save('/content/drive/MyDrive/CS 738/Project/Batched Data/YtrainDataResized/Ylabels_' + str(i) + '_resized', Ytrain)\n",
        "\n"
      ],
      "execution_count": null,
      "outputs": []
    },
    {
      "cell_type": "code",
      "metadata": {
        "id": "VknK-4d1nJtw"
      },
      "source": [
        "#checking some images\n",
        "#test = np.load('/content/drive/MyDrive/CS 738/Project/Batched Data/XtrainData/Xdata_0.npy')\n",
        "#test2 = np.load('/content/drive/MyDrive/CS 738/Project/Batched Data/YtrainData/Ylabels_0.npy')\n",
        "#test3 = np.load('/content/drive/MyDrive/CS 738/Project/Batched Data/YtrainData/Ylabels_0.npy')"
      ],
      "execution_count": null,
      "outputs": []
    },
    {
      "cell_type": "markdown",
      "metadata": {
        "id": "_kfvgkMBu3rh"
      },
      "source": [
        "## Preprocessing Testing Data"
      ]
    },
    {
      "cell_type": "code",
      "metadata": {
        "id": "NIOnrRVuCcwZ"
      },
      "source": [
        "#load image testing data\n",
        "FileDirX= '/content/drive/MyDrive/CS 738/Project/Batched Data/XtestData/*.npy'\n",
        "FileDirY= '/content/drive/MyDrive/CS 738/Project/Batched Data/YtestData/*.npy'\n",
        "\n",
        "Files_ListX = glob.glob(FileDirX)\n",
        "Files_ListY = glob.glob(FileDirY)\n",
        "\n",
        "Files_ListX.sort()\n",
        "Files_ListY.sort()\n"
      ],
      "execution_count": null,
      "outputs": []
    },
    {
      "cell_type": "code",
      "metadata": {
        "id": "jKL00Vk5CPOR"
      },
      "source": [
        "def load_image_test(xImage, yImage):\n",
        "  input_image = tf.image.resize(xImage, (128, 128),method='nearest')\n",
        "  input_mask = tf.image.resize(yImage, (128, 128),method='nearest')\n",
        "\n",
        "  input_image, input_mask = normalize(input_image, input_mask)\n",
        "\n",
        "  return input_image, input_mask"
      ],
      "execution_count": null,
      "outputs": []
    },
    {
      "cell_type": "code",
      "metadata": {
        "id": "ytxio8STCZFa"
      },
      "source": [
        "def PreProcessDataTest(FileX, FileY):\n",
        "\n",
        "  Xdata = np.load(FileX)\n",
        "  Ydata = np.load(FileY)\n",
        "\n",
        "  #initialize new storage array \n",
        "  Xtest = np.zeros((Xdata.shape[3],128,128,3), dtype=np.float32) # the resized dataset\n",
        "  Ytest = np.zeros((Xdata.shape[3],128,128,1), dtype=np.float32) # the resized dataset\n",
        "\n",
        "  for k in range(0, Xtest.shape[0]):\n",
        "\n",
        "    Y_1D = 1*Ydata[:,:,0,k] + 2*Ydata[:,:,1,k] + 3*Ydata[:,:,2,k]\n",
        "    Y_1D = Y_1D.reshape(Y_1D.shape[0], Y_1D.shape[1],1)\n",
        "    [x,y] = load_image_test(Xdata[:,:,:,k], Y_1D) # resize and normalize the data\n",
        "    Xtest[k,:,:,:] = x\n",
        "    Ytest[k,:,:,:] = y\n",
        "  \n",
        "  del Xdata\n",
        "  del Ydata\n",
        "  gc.collect()\n",
        "\n",
        "  return Xtest,Ytest"
      ],
      "execution_count": null,
      "outputs": []
    },
    {
      "cell_type": "code",
      "metadata": {
        "id": "5HETt2JFCch1"
      },
      "source": [
        "for i,k in enumerate(Files_ListX):\n",
        "\n",
        "  [Xtest,Ytest] = PreProcessDataTest(Files_ListX[i], Files_ListY[i])\n",
        "  np.save('/content/drive/MyDrive/CS 738/Project/Batched Data/XtestDataResized/Xdata_' + str(i+9) + '_resized', Xtest)\n",
        "  np.save('/content/drive/MyDrive/CS 738/Project/Batched Data/YtestDataResized/Ylabels_' + str(i+9) + '_resized', Ytest)\n"
      ],
      "execution_count": null,
      "outputs": []
    },
    {
      "cell_type": "code",
      "metadata": {
        "colab": {
          "base_uri": "https://localhost:8080/",
          "height": 319
        },
        "id": "s1L8knWSzR2t",
        "outputId": "68143166-2220-471e-c8ee-f8c9baf6391e"
      },
      "source": [
        "#checking some images\n",
        "test = np.load('/content/drive/MyDrive/CS 738/Project/Batched Data/XtestDataResized/Xdata_9_resized.npy')\n",
        "#test2 = np.load('/content/drive/MyDrive/CS 738/Project/Batched Data/YtrainData/Ylabels_0.npy')\n",
        "test3 = np.load('/content/drive/MyDrive/CS 738/Project/Batched Data/YtestDataResized/Ylabels_9_resized.npy')\n",
        "plt.imshow(test[800])\n",
        "print(test.shape)\n",
        "plt.imshow(test3[800,:,:,0])\n",
        "print(test3.shape)\n",
        "print(np.unique(test3))"
      ],
      "execution_count": null,
      "outputs": [
        {
          "output_type": "stream",
          "text": [
            "(888, 128, 128, 3)\n",
            "(888, 128, 128, 1)\n",
            "[0. 1. 2. 3.]\n"
          ],
          "name": "stdout"
        },
        {
          "output_type": "display_data",
          "data": {
            "image/png": "[encoded data removed]",
            "text/plain": [
              "<Figure size 432x288 with 1 Axes>"
            ]
          },
          "metadata": {
            "tags": [],
            "needs_background": "light"
          }
        }
      ]
    },
    {
      "cell_type": "code",
      "metadata": {
        "id": "xuM6a4t7-UCq",
        "colab": {
          "base_uri": "https://localhost:8080/"
        },
        "outputId": "8a6ad43d-876b-49c1-8f0d-d0acfbc521e5"
      },
      "source": [
        "#get statistics for class weighting\n",
        "from sklearn.utils import class_weight\n",
        "\n",
        "#load image data \n",
        "FileDirX= '/content/drive/MyDrive/CS 738/Project/Batched Data/XtrainDataResized/*.npy'\n",
        "FileDirY= '/content/drive/MyDrive/CS 738/Project/Batched Data/YtrainDataResized/*.npy'\n",
        "\n",
        "Files_ListX = glob.glob(FileDirX)\n",
        "Files_ListY = glob.glob(FileDirY)\n",
        "\n",
        "Files_ListX.sort()\n",
        "Files_ListY.sort()\n",
        "\n",
        "\n",
        "Class0_c = 0\n",
        "Class1_c = 0\n",
        "Class2_c = 0\n",
        "Class3_c = 0\n",
        "SampleCount = 0\n",
        "\n",
        "for k in range(0, len(Files_ListY)):\n",
        "  Ydata = np.load(Files_ListY[k]) # load the class data\n",
        "  for j in range(0, Ydata.shape[0]):\n",
        "\n",
        "    Class0_c += np.sum(Ydata[j,:,:,:] ==0)\n",
        "    Class1_c += np.sum(Ydata[j,:,:,:] ==1)\n",
        "    Class2_c += np.sum(Ydata[j,:,:,:] ==2)\n",
        "    Class3_c += np.sum(Ydata[j,:,:,:] ==3)\n",
        "    SampleCount += (Ydata.shape[1] * Ydata.shape[1])\n",
        "\n",
        "\n",
        "\n",
        "c0 = np.ones((Class0_c,1))* 0\n",
        "c1 = np.ones((Class1_c,1))* 1\n",
        "c2 = np.ones((Class2_c,1))* 2\n",
        "c3 = np.ones((Class3_c,1))* 3\n",
        "Y = np.vstack((c0,c1,c2,c3)).astype(int)\n",
        "Y = Y.reshape(len(Y),)\n",
        "Yvalues = np.unique(Y)\n",
        "class_weight = class_weight.compute_class_weight('balanced', Yvalues, Y)\n",
        "print(class_weight)\n",
        "print(Class0_c, Class1_c, Class2_c, Class3_c)\n"
      ],
      "execution_count": null,
      "outputs": [
        {
          "output_type": "stream",
          "text": [
            "[ 0.32902479  1.28361589 10.33766114 11.77407419]\n",
            "99466792 25495976 3165807 2779585\n"
          ],
          "name": "stdout"
        }
      ]
    },
    {
      "cell_type": "code",
      "metadata": {
        "id": "QPYIqahMw8RY"
      },
      "source": [
        "whos"
      ],
      "execution_count": null,
      "outputs": []
    }
  ]
}